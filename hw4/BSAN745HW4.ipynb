{
  "cells": [
    {
      "cell_type": "markdown",
      "metadata": {
        "id": "6uTQ785jdpHp"
      },
      "source": [
        "Assignment 4"
      ]
    },
    {
      "cell_type": "markdown",
      "metadata": {
        "id": "3L8BIUQtdsau"
      },
      "source": [
        "Problem 1"
      ]
    },
    {
      "cell_type": "code",
      "execution_count": null,
      "metadata": {
        "colab": {
          "base_uri": "https://localhost:8080/",
          "height": 481
        },
        "id": "Gy6uYrOVdjta",
        "outputId": "c3e167d9-2676-4f49-c645-1f645af7be95"
      },
      "outputs": [],
      "source": [
        "#1.0 preprocessing\n",
        "\n",
        "import pandas as pd\n",
        "from sklearn.feature_extraction.text import CountVectorizer, TfidfVectorizer, ENGLISH_STOP_WORDS\n",
        "from sklearn.decomposition import TruncatedSVD\n",
        "from nltk.stem import PorterStemmer\n",
        "cv = CountVectorizer()\n",
        "ps = PorterStemmer()\n",
        "tv = TfidfVectorizer()\n",
        "from string import punctuation, digits\n",
        "import nltk\n",
        "import re\n",
        "import pickle\n",
        "import numpy\n",
        "from sklearn.neighbors import KNeighborsClassifier\n",
        "from sklearn.metrics import accuracy_score, precision_score\n",
        "\n",
        "words = []\n",
        "docs1 = []\n",
        "\n",
        "# load partition\n",
        "with open(\"partition_hw4.pkl\", \"rb\") as f:\n",
        "  partition = pickle.load(f)\n",
        "\n",
        "# make preprocessing function\n",
        "def preprocess_text(text):\n",
        "  text = text.lower() #make everything lower case\n",
        "  text = text.translate(str.maketrans('','', digits)) # take out digits\n",
        "  text = text.translate(str.maketrans('','', punctuation)) # take out punctuation\n",
        "  text = re.sub(' +', ' ', text).strip() # remove extra spaces\n",
        "  t_list = text.split(\" \")\n",
        "  text = \" \".join(ps.stem(word) for word in t_list) #stemming\n",
        "  return text\n",
        "\n",
        "mystopwords = list(ENGLISH_STOP_WORDS)\n",
        "mystopwords.sort()\n",
        "stem_stopwords = [ps.stem(word) for word in mystopwords]\n",
        "\n",
        "# put file into dataframe\n",
        "df = pd.read_csv(\"news_label.csv\", encoding='latin1')\n",
        "docs1 = df['Message'].tolist() # make a list\n",
        "labels1 = df[\"Class\"]\n",
        "\n",
        "#1.1 myvocab1: unigrams\n",
        "cv1 = CountVectorizer(preprocessor = preprocess_text,\n",
        "                     stop_words = stem_stopwords,\n",
        "                     min_df=2,\n",
        "                     ngram_range = (1,1))\n",
        "dtm1 = cv.fit_transform(df['Message'])\n",
        "myvocab = cv.get_feature_names_out()\n",
        "myvocab_counts = dtm1.sum(axis=0).tolist()[0]\n",
        "myvocab1 = [myvocab[i] for i in range(len(myvocab)) if myvocab_counts[i] >= 100]\n",
        "print(\"Here is the dtm1 shape: \", dtm1.shape)\n",
        "terms = cv.get_feature_names_out()\n",
        "freq_num = dtm1.sum(axis=0)[0].tolist()[0]\n",
        "ctf = pd.DataFrame({\"terms\": terms, \n",
        "                    \"freq\": freq_num})\n",
        "ctf.sort_values(\"freq\", ascending=False, inplace=True)\n",
        "print(ctf.iloc[:5][\"terms\"].tolist())\n",
        "\n",
        "cv12 = CountVectorizer(preprocessor = preprocess_text,\n",
        "                     stop_words = stem_stopwords,\n",
        "                     vocabulary=myvocab1)\n",
        "dmt12 = cv12.fit_transform(df['Message'])\n",
        "\n",
        "\n",
        "\n",
        "# partition data\n",
        "train_inds = partition['train_inds']\n",
        "test_inds = partition['test_inds']\n",
        "train_dtm1 = dtm1['train_inds']\n",
        "train_labels = df.loc['train_inds', 'Class']\n",
        "test_dtm1 = dtm1['test_inds']\n",
        "test_labels = df.loc['test_inds', 'Class']\n",
        "\n",
        "# train for KNN classifier\n",
        "k = 7\n",
        "knn = KNeighborsClassifier(n_neighbors=k)\n",
        "knn.fit(train_dtm1, train_labels)\n",
        "\n",
        "# test the KNN case\n",
        "pred_label_knn1 = knn.predict(test_dtml1)\n",
        "accuracy_knn1 = knn.score(test_dtm1, test_labels)\n",
        "precision_knn1 = precision_score(test_labels, pred_label_knn1, pos_label = 'space')\n",
        "recall_knn1 = recall_score(test_labels, pre_label_knn1, pos_label = 'space')\n",
        "\n",
        "#1.3 pred_label_knn1:\n",
        "print(\"Printing pred_label_knn1:\")\n",
        "print(pred_label_knn1)\n",
        "\n",
        "#1.4 accuracy_knn1:\n",
        "print(\"Printing accuracy_knn1:\")\n",
        "print(accuracy_knn1)\n",
        "\n",
        "#1.5 precision_knn1:\n",
        "print(\"Printing precision_knn1:\")\n",
        "print(precision_knn1)\n",
        "\n",
        "#1.6 recall_knn1:\n",
        "print(\"Printing recall_knn1:\")\n",
        "print(recall_knn1)"
      ]
    },
    {
      "cell_type": "markdown",
      "metadata": {
        "id": "0lvxu1uSeGP8"
      },
      "source": [
        "Problem 2"
      ]
    },
    {
      "cell_type": "code",
      "execution_count": null,
      "metadata": {
        "id": "prn3FOHzeIBE"
      },
      "outputs": [],
      "source": [
        "# Continuation of problem 1:\n",
        "\n",
        "# Work to impore the kNN model, to get accuacy on the testing set to above 90%"
      ]
    },
    {
      "cell_type": "markdown",
      "metadata": {
        "id": "AZbyqaxueWy5"
      },
      "source": [
        "Problem 3"
      ]
    },
    {
      "cell_type": "code",
      "execution_count": null,
      "metadata": {
        "id": "QRSXPf-TeYLv"
      },
      "outputs": [],
      "source": [
        "# Continuation of problem 2:\n",
        "\n",
        "# Build neural network models\n",
        "\n",
        "# 3.1 h_val_auc:\n",
        "\n",
        "# 3.2 best_model:\n"
      ]
    }
  ],
  "metadata": {
    "colab": {
      "provenance": []
    },
    "kernelspec": {
      "display_name": "Python 3",
      "name": "python3"
    },
    "language_info": {
      "codemirror_mode": {
        "name": "ipython",
        "version": 3
      },
      "file_extension": ".py",
      "mimetype": "text/x-python",
      "name": "python",
      "nbconvert_exporter": "python",
      "pygments_lexer": "ipython3",
      "version": "3.10.10"
    }
  },
  "nbformat": 4,
  "nbformat_minor": 0
}
